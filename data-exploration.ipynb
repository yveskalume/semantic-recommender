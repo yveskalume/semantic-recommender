{
 "cells": [
  {
   "cell_type": "code",
   "id": "initial_id",
   "metadata": {
    "collapsed": true
   },
   "source": [
    "import kagglehub\n",
    "from seaborn import heatmap\n",
    "\n",
    "# Download latest version\n",
    "path = kagglehub.dataset_download(\"dylanjcastillo/7k-books-with-metadata\")\n",
    "\n",
    "print(\"Path to dataset files:\", path)"
   ],
   "outputs": [],
   "execution_count": null
  },
  {
   "metadata": {},
   "cell_type": "code",
   "source": "import pandas as pd",
   "id": "eb9086356b527d93",
   "outputs": [],
   "execution_count": null
  },
  {
   "metadata": {},
   "cell_type": "code",
   "source": "books = pd.read_csv(f\"{path}/books.csv\")",
   "id": "73e6b4cd07d4107f",
   "outputs": [],
   "execution_count": null
  },
  {
   "metadata": {},
   "cell_type": "code",
   "source": "books",
   "id": "6af25af7cc821707",
   "outputs": [],
   "execution_count": null
  },
  {
   "metadata": {},
   "cell_type": "code",
   "source": [
    "import seaborn as sns\n",
    "import matplotlib.pyplot as plt"
   ],
   "id": "6f9752b496e54349",
   "outputs": [],
   "execution_count": null
  },
  {
   "metadata": {},
   "cell_type": "code",
   "source": [
    "ax = plt.axes()\n",
    "sns.heatmap(books.isna().transpose(),cbar=False,ax=ax)\n",
    "plt.xlabel(\"Columns\")\n",
    "plt.ylabel(\"Missing values\")\n",
    "plt.show()"
   ],
   "id": "f6dc9c6f856caae4",
   "outputs": [],
   "execution_count": null
  },
  {
   "metadata": {},
   "cell_type": "code",
   "source": [
    "import numpy as np\n",
    "\n",
    "books[\"missing_description\"] = np.where(books[\"description\"].isna(), 1, 0)\n",
    "books[\"age_of_book\"] = 2025 - books[\"published_year\"]"
   ],
   "id": "ad69399fdb8dafcb",
   "outputs": [],
   "execution_count": null
  },
  {
   "metadata": {},
   "cell_type": "code",
   "source": [
    "columns_of_interest = [\"num_pages\",\"age_of_book\",\"missing_description\",\"average_rating\"]\n",
    "correlation_matrix = books[columns_of_interest].corr(method=\"spearman\")\n",
    "\n",
    "sns.set_theme(style=\"white\")\n",
    "plt.figure(figsize=(8,6))\n",
    "heatmap = sns.heatmap(correlation_matrix, annot=True,fmt=\".2f\",cmap=\"coolwarm\",cbar_kws={\"label\":\"Spearman Correlation\"})\n",
    "heatmap.set_title(\"Correlation Heatmap\")\n",
    "plt.show()"
   ],
   "id": "e781c4cebf581d4b",
   "outputs": [],
   "execution_count": null
  },
  {
   "metadata": {},
   "cell_type": "code",
   "source": [
    "final_books = books[\n",
    "    ~(books['description'].isna()) &\n",
    "    ~(books['num_pages'].isna()) &\n",
    "    ~(books['average_rating'].isna()) &\n",
    "    ~(books['published_year'].isna())\n",
    "]"
   ],
   "id": "1913f86aaa24b226",
   "outputs": [],
   "execution_count": null
  },
  {
   "metadata": {},
   "cell_type": "code",
   "source": "final_books",
   "id": "54e994ec177972f1",
   "outputs": [],
   "execution_count": null
  },
  {
   "metadata": {},
   "cell_type": "code",
   "source": "final_books[\"categories\"].value_counts().reset_index().sort_values(\"count\", ascending=False)",
   "id": "afb87f4c56ac7aae",
   "outputs": [],
   "execution_count": null
  },
  {
   "metadata": {},
   "cell_type": "code",
   "source": "final_books",
   "id": "7609516fa0c8fa11",
   "outputs": [],
   "execution_count": null
  },
  {
   "metadata": {},
   "cell_type": "code",
   "source": "final_books.loc[:,\"words_in_description\"] = final_books[\"description\"].str.split().str.len()",
   "id": "1832d521c8db1639",
   "outputs": [],
   "execution_count": null
  },
  {
   "metadata": {},
   "cell_type": "code",
   "source": "final_books",
   "id": "850fcbef93cf3717",
   "outputs": [],
   "execution_count": null
  },
  {
   "metadata": {},
   "cell_type": "code",
   "source": "final_books.loc[final_books[\"words_in_description\"].between(1,4),\"description\"]",
   "id": "bcb61737260f14e6",
   "outputs": [],
   "execution_count": null
  },
  {
   "metadata": {},
   "cell_type": "code",
   "source": "final_books_25_words = final_books[final_books[\"words_in_description\"] >= 25]",
   "id": "4c447be5070663f7",
   "outputs": [],
   "execution_count": null
  },
  {
   "metadata": {},
   "cell_type": "code",
   "source": "final_books_25_words",
   "id": "bfe99fb352a67809",
   "outputs": [],
   "execution_count": null
  },
  {
   "metadata": {},
   "cell_type": "code",
   "source": [
    "final_books_25_words.loc[:,\"title_and_subtitle\"] = (\n",
    "    np.where(final_books_25_words[\"subtitle\"].isna(),final_books_25_words[\"title\"],\n",
    "             final_books_25_words[[\"title\",\"subtitle\"]].astype(str).agg(\" \".join,axis=1))\n",
    ")"
   ],
   "id": "e5aa6be7f5c08951",
   "outputs": [],
   "execution_count": null
  },
  {
   "metadata": {},
   "cell_type": "code",
   "source": "final_books_25_words",
   "id": "fea24447853ff095",
   "outputs": [],
   "execution_count": null
  },
  {
   "metadata": {},
   "cell_type": "code",
   "source": "final_books_25_words.loc[:,\"tagged_description\"] = final_books_25_words[[\"isbn13\",\"description\"]].astype(str).agg(\" \".join,axis=1)",
   "id": "7056f5b44538aae8",
   "outputs": [],
   "execution_count": null
  },
  {
   "metadata": {},
   "cell_type": "code",
   "source": "final_books_25_words",
   "id": "20d72fdea9f38525",
   "outputs": [],
   "execution_count": null
  },
  {
   "metadata": {},
   "cell_type": "code",
   "source": [
    "(\n",
    "    final_books_25_words\n",
    "    .drop([\"subtitle\",\"missing_description\",\"age_of_book\",\"words_in_description\"],axis=1)\n",
    "    .to_csv(\"books_cleaned.csv\",index=False)\n",
    ")"
   ],
   "id": "97c837dbe893efbb",
   "outputs": [],
   "execution_count": null
  },
  {
   "metadata": {},
   "cell_type": "code",
   "source": "",
   "id": "178d329e63c6d8fb",
   "outputs": [],
   "execution_count": null
  }
 ],
 "metadata": {
  "kernelspec": {
   "display_name": "Python 3",
   "language": "python",
   "name": "python3"
  },
  "language_info": {
   "codemirror_mode": {
    "name": "ipython",
    "version": 2
   },
   "file_extension": ".py",
   "mimetype": "text/x-python",
   "name": "python",
   "nbconvert_exporter": "python",
   "pygments_lexer": "ipython2",
   "version": "2.7.6"
  }
 },
 "nbformat": 4,
 "nbformat_minor": 5
}
